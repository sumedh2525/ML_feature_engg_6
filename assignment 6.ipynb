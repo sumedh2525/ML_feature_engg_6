{
 "cells": [
  {
   "cell_type": "markdown",
   "id": "7765356d-56b1-4cc3-9ee9-fcad59d8b8c7",
   "metadata": {},
   "source": [
    "Q1. Pearson correlation coefficient is a measure of the linear relationship between two variables. Suppose\n",
    "you have collected data on the amount of time students spend studying for an exam and their final exam\n",
    "scores. Calculate the Pearson correlation coefficient between these two variables and interpret the result."
   ]
  },
  {
   "cell_type": "code",
   "execution_count": 3,
   "id": "54172557-d341-4449-a448-e0e34f634f07",
   "metadata": {},
   "outputs": [
    {
     "data": {
      "text/plain": [
       "array([[1.        , 0.89079972],\n",
       "       [0.89079972, 1.        ]])"
      ]
     },
     "execution_count": 3,
     "metadata": {},
     "output_type": "execute_result"
    }
   ],
   "source": [
    "import pandas as pd\n",
    "import numpy as np\n",
    "\n",
    "study_time = [10,15,20,8,12,5,18,25,30,22]\n",
    "exam_scores = [80,85,90,75,78,60,88,95,92,89]\n",
    "\n",
    "correlation_coefficient = np.corrcoef(study_time,exam_scores)\n",
    "\n",
    "correlation_coefficient"
   ]
  },
  {
   "cell_type": "code",
   "execution_count": null,
   "id": "9ae98413-0aa6-4bc6-8249-984c19b1600a",
   "metadata": {},
   "outputs": [],
   "source": []
  },
  {
   "cell_type": "code",
   "execution_count": null,
   "id": "8fcc2f9d-d0bf-4cfa-aff1-14075b1398e1",
   "metadata": {},
   "outputs": [],
   "source": []
  },
  {
   "cell_type": "markdown",
   "id": "275dcf3b-25e0-428c-8faf-85a1235e8ad6",
   "metadata": {},
   "source": [
    "Q2. Spearman's rank correlation is a measure of the monotonic relationship between two variables.\n",
    "Suppose you have collected data on the amount of sleep individuals get each night and their overall job\n",
    "satisfaction level on a scale of 1 to 10. Calculate the Spearman's rank correlation between these two\n",
    "variables and interpret the result."
   ]
  },
  {
   "cell_type": "code",
   "execution_count": 2,
   "id": "66dd1312-17ee-4a3a-a26a-12179cb9f8b4",
   "metadata": {},
   "outputs": [
    {
     "name": "stdout",
     "output_type": "stream",
     "text": [
      "Spearman's Rank Correlation: -0.3974358974358974\n"
     ]
    }
   ],
   "source": [
    "import numpy as np\n",
    "import scipy.stats as stats\n",
    "\n",
    "sleeping_hours = [4,5,6,7,8,9,5,7,8]\n",
    "job_satisfaction = [8,5,9,4,6,7,9,6,4]\n",
    "\n",
    "spearman_rank_correlation, _ = stats.spearmanr(sleeping_hours, job_satisfaction)\n",
    "\n",
    "print(\"Spearman's Rank Correlation:\",spearman_rank_correlation)"
   ]
  },
  {
   "cell_type": "code",
   "execution_count": null,
   "id": "61f53e35-76fb-4e39-9fb3-b77531dad574",
   "metadata": {},
   "outputs": [],
   "source": []
  },
  {
   "cell_type": "code",
   "execution_count": null,
   "id": "a2ba7cd9-78d7-48b8-a27e-34e9663f800e",
   "metadata": {},
   "outputs": [],
   "source": []
  },
  {
   "cell_type": "markdown",
   "id": "85dedbf5-8dea-4eb9-b0ca-d97e3c2d564f",
   "metadata": {},
   "source": [
    "Q3. Suppose you are conducting a study to examine the relationship between the number of hours of\n",
    "exercise per week and body mass index (BMI) in a sample of adults. You collected data on both variables\n",
    "for 50 participants. Calculate the Pearson correlation coefficient and the Spearman's rank correlation\n",
    "between these two variables and compare the results."
   ]
  },
  {
   "cell_type": "code",
   "execution_count": 7,
   "id": "d61271e4-bf3a-4a51-9a97-6f25f6ccdfaf",
   "metadata": {},
   "outputs": [
    {
     "name": "stdout",
     "output_type": "stream",
     "text": [
      "Pearson Correlation Coefficient: 0.9795368804309018\n",
      "Spearman's Rank Correlation: 0.9814244408618115\n"
     ]
    }
   ],
   "source": [
    "import numpy as np\n",
    "import scipy.stats as stats\n",
    "\n",
    "exercise_hours = [3, 5, 4, 2, 6, 1, 7, 2, 4, 5,\n",
    "                  2, 3, 5, 4, 6, 1, 7, 3, 4, 5,\n",
    "                  2, 3, 5, 4, 6, 1, 7, 3, 4, 5,\n",
    "                  2, 3, 5, 4, 6, 1, 7, 3, 4, 5,\n",
    "                  2, 3, 5, 4, 6, 1, 7, 3, 4, 5]\n",
    "\n",
    "body_mass = [22.5, 25.1, 23.8, 21.2, 27.6, 18.9, 30.2, 22.1, 24.7, 25.6,\n",
    "       20.3, 22.8, 24.9, 23.5, 27.1, 18.5, 29.7, 22.7, 24.0, 25.3,\n",
    "       20.1, 23.0, 24.7, 23.2, 26.8, 18.2, 30.5, 22.3, 24.4, 25.9,\n",
    "       20.6, 23.5, 25.0, 23.8, 26.9, 19.0, 30.0, 22.6, 24.3, 25.4,\n",
    "       20.0, 22.9, 24.5, 23.4, 27.0, 18.7, 29.9, 22.0, 24.6, 25.5]\n",
    "\n",
    "pearson_corr_coef= np.corrcoef(exercise_hours,body_mass)[0,1]\n",
    "spearman_corr_coef, _ = stats.spearmanr(exercise_hours,body_mass)\n",
    "\n",
    "print(\"Pearson Correlation Coefficient:\", pearson_corr_coef)\n",
    "print(\"Spearman's Rank Correlation:\", spearman_corr_coef)"
   ]
  },
  {
   "cell_type": "code",
   "execution_count": null,
   "id": "095d9249-362a-4d9d-b12a-30ad1d830a8b",
   "metadata": {},
   "outputs": [],
   "source": []
  },
  {
   "cell_type": "code",
   "execution_count": null,
   "id": "9bf518f5-1183-42fb-be37-60055622171a",
   "metadata": {},
   "outputs": [],
   "source": []
  },
  {
   "cell_type": "markdown",
   "id": "011d1b88-fe93-4804-b3b9-21a7ce1de969",
   "metadata": {},
   "source": [
    "Q4. A researcher is interested in examining the relationship between the number of hours individuals\n",
    "spend watching television per day and their level of physical activity. The researcher collected data on\n",
    "both variables from a sample of 50 participants. Calculate the Pearson correlation coefficient between\n",
    "these two variables."
   ]
  },
  {
   "cell_type": "code",
   "execution_count": 1,
   "id": "e896a3f9-d296-48ab-99bd-355dc991d933",
   "metadata": {},
   "outputs": [
    {
     "ename": "ValueError",
     "evalue": "all the input array dimensions for the concatenation axis must match exactly, but along dimension 1, the array at index 0 has size 50 and the array at index 1 has size 49",
     "output_type": "error",
     "traceback": [
      "\u001b[0;31m---------------------------------------------------------------------------\u001b[0m",
      "\u001b[0;31mValueError\u001b[0m                                Traceback (most recent call last)",
      "Cell \u001b[0;32mIn[1], line 17\u001b[0m\n\u001b[1;32m     10\u001b[0m physical_activity \u001b[38;5;241m=\u001b[39m [\u001b[38;5;241m120\u001b[39m, \u001b[38;5;241m90\u001b[39m, \u001b[38;5;241m60\u001b[39m, \u001b[38;5;241m150\u001b[39m, \u001b[38;5;241m30\u001b[39m, \u001b[38;5;241m80\u001b[39m, \u001b[38;5;241m20\u001b[39m, \u001b[38;5;241m110\u001b[39m, \u001b[38;5;241m130\u001b[39m, \u001b[38;5;241m100\u001b[39m,\n\u001b[1;32m     11\u001b[0m                      \u001b[38;5;241m85\u001b[39m, \u001b[38;5;241m140\u001b[39m, \u001b[38;5;241m40\u001b[39m, \u001b[38;5;241m75\u001b[39m, \u001b[38;5;241m25\u001b[39m, \u001b[38;5;241m105\u001b[39m, \u001b[38;5;241m125\u001b[39m, \u001b[38;5;241m95\u001b[39m, \u001b[38;5;241m70\u001b[39m, \u001b[38;5;241m115\u001b[39m,\n\u001b[1;32m     12\u001b[0m                      \u001b[38;5;241m90\u001b[39m, \u001b[38;5;241m60\u001b[39m, \u001b[38;5;241m150\u001b[39m, \u001b[38;5;241m30\u001b[39m, \u001b[38;5;241m80\u001b[39m, \u001b[38;5;241m20\u001b[39m, \u001b[38;5;241m110\u001b[39m, \u001b[38;5;241m130\u001b[39m, \u001b[38;5;241m100\u001b[39m, \u001b[38;5;241m85\u001b[39m,\n\u001b[1;32m     13\u001b[0m                      \u001b[38;5;241m140\u001b[39m, \u001b[38;5;241m40\u001b[39m, \u001b[38;5;241m75\u001b[39m, \u001b[38;5;241m25\u001b[39m, \u001b[38;5;241m105\u001b[39m, \u001b[38;5;241m125\u001b[39m, \u001b[38;5;241m95\u001b[39m, \u001b[38;5;241m70\u001b[39m, \u001b[38;5;241m115\u001b[39m, \u001b[38;5;241m90\u001b[39m,\n\u001b[1;32m     14\u001b[0m                      \u001b[38;5;241m60\u001b[39m, \u001b[38;5;241m150\u001b[39m, \u001b[38;5;241m30\u001b[39m, \u001b[38;5;241m80\u001b[39m, \u001b[38;5;241m20\u001b[39m, \u001b[38;5;241m110\u001b[39m, \u001b[38;5;241m130\u001b[39m, \u001b[38;5;241m100\u001b[39m, \u001b[38;5;241m85\u001b[39m]\n\u001b[1;32m     16\u001b[0m \u001b[38;5;66;03m# Calculate the Pearson correlation coefficient\u001b[39;00m\n\u001b[0;32m---> 17\u001b[0m pearson_corr_coef \u001b[38;5;241m=\u001b[39m \u001b[43mnp\u001b[49m\u001b[38;5;241;43m.\u001b[39;49m\u001b[43mcorrcoef\u001b[49m\u001b[43m(\u001b[49m\u001b[43mtv_hours\u001b[49m\u001b[43m,\u001b[49m\u001b[43m \u001b[49m\u001b[43mphysical_activity\u001b[49m\u001b[43m)\u001b[49m[\u001b[38;5;241m0\u001b[39m,\u001b[38;5;241m1\u001b[39m]\n\u001b[1;32m     19\u001b[0m \u001b[38;5;28mprint\u001b[39m(\u001b[38;5;124m\"\u001b[39m\u001b[38;5;124mPearson Correlation Coefficient:\u001b[39m\u001b[38;5;124m\"\u001b[39m, pearson_corr_coef)\n",
      "File \u001b[0;32m<__array_function__ internals>:180\u001b[0m, in \u001b[0;36mcorrcoef\u001b[0;34m(*args, **kwargs)\u001b[0m\n",
      "File \u001b[0;32m/opt/conda/lib/python3.10/site-packages/numpy/lib/function_base.py:2845\u001b[0m, in \u001b[0;36mcorrcoef\u001b[0;34m(x, y, rowvar, bias, ddof, dtype)\u001b[0m\n\u001b[1;32m   2841\u001b[0m \u001b[38;5;28;01mif\u001b[39;00m bias \u001b[38;5;129;01mis\u001b[39;00m \u001b[38;5;129;01mnot\u001b[39;00m np\u001b[38;5;241m.\u001b[39m_NoValue \u001b[38;5;129;01mor\u001b[39;00m ddof \u001b[38;5;129;01mis\u001b[39;00m \u001b[38;5;129;01mnot\u001b[39;00m np\u001b[38;5;241m.\u001b[39m_NoValue:\n\u001b[1;32m   2842\u001b[0m     \u001b[38;5;66;03m# 2015-03-15, 1.10\u001b[39;00m\n\u001b[1;32m   2843\u001b[0m     warnings\u001b[38;5;241m.\u001b[39mwarn(\u001b[38;5;124m'\u001b[39m\u001b[38;5;124mbias and ddof have no effect and are deprecated\u001b[39m\u001b[38;5;124m'\u001b[39m,\n\u001b[1;32m   2844\u001b[0m                   \u001b[38;5;167;01mDeprecationWarning\u001b[39;00m, stacklevel\u001b[38;5;241m=\u001b[39m\u001b[38;5;241m3\u001b[39m)\n\u001b[0;32m-> 2845\u001b[0m c \u001b[38;5;241m=\u001b[39m \u001b[43mcov\u001b[49m\u001b[43m(\u001b[49m\u001b[43mx\u001b[49m\u001b[43m,\u001b[49m\u001b[43m \u001b[49m\u001b[43my\u001b[49m\u001b[43m,\u001b[49m\u001b[43m \u001b[49m\u001b[43mrowvar\u001b[49m\u001b[43m,\u001b[49m\u001b[43m \u001b[49m\u001b[43mdtype\u001b[49m\u001b[38;5;241;43m=\u001b[39;49m\u001b[43mdtype\u001b[49m\u001b[43m)\u001b[49m\n\u001b[1;32m   2846\u001b[0m \u001b[38;5;28;01mtry\u001b[39;00m:\n\u001b[1;32m   2847\u001b[0m     d \u001b[38;5;241m=\u001b[39m diag(c)\n",
      "File \u001b[0;32m<__array_function__ internals>:180\u001b[0m, in \u001b[0;36mcov\u001b[0;34m(*args, **kwargs)\u001b[0m\n",
      "File \u001b[0;32m/opt/conda/lib/python3.10/site-packages/numpy/lib/function_base.py:2639\u001b[0m, in \u001b[0;36mcov\u001b[0;34m(m, y, rowvar, bias, ddof, fweights, aweights, dtype)\u001b[0m\n\u001b[1;32m   2637\u001b[0m     \u001b[38;5;28;01mif\u001b[39;00m \u001b[38;5;129;01mnot\u001b[39;00m rowvar \u001b[38;5;129;01mand\u001b[39;00m y\u001b[38;5;241m.\u001b[39mshape[\u001b[38;5;241m0\u001b[39m] \u001b[38;5;241m!=\u001b[39m \u001b[38;5;241m1\u001b[39m:\n\u001b[1;32m   2638\u001b[0m         y \u001b[38;5;241m=\u001b[39m y\u001b[38;5;241m.\u001b[39mT\n\u001b[0;32m-> 2639\u001b[0m     X \u001b[38;5;241m=\u001b[39m \u001b[43mnp\u001b[49m\u001b[38;5;241;43m.\u001b[39;49m\u001b[43mconcatenate\u001b[49m\u001b[43m(\u001b[49m\u001b[43m(\u001b[49m\u001b[43mX\u001b[49m\u001b[43m,\u001b[49m\u001b[43m \u001b[49m\u001b[43my\u001b[49m\u001b[43m)\u001b[49m\u001b[43m,\u001b[49m\u001b[43m \u001b[49m\u001b[43maxis\u001b[49m\u001b[38;5;241;43m=\u001b[39;49m\u001b[38;5;241;43m0\u001b[39;49m\u001b[43m)\u001b[49m\n\u001b[1;32m   2641\u001b[0m \u001b[38;5;28;01mif\u001b[39;00m ddof \u001b[38;5;129;01mis\u001b[39;00m \u001b[38;5;28;01mNone\u001b[39;00m:\n\u001b[1;32m   2642\u001b[0m     \u001b[38;5;28;01mif\u001b[39;00m bias \u001b[38;5;241m==\u001b[39m \u001b[38;5;241m0\u001b[39m:\n",
      "File \u001b[0;32m<__array_function__ internals>:180\u001b[0m, in \u001b[0;36mconcatenate\u001b[0;34m(*args, **kwargs)\u001b[0m\n",
      "\u001b[0;31mValueError\u001b[0m: all the input array dimensions for the concatenation axis must match exactly, but along dimension 1, the array at index 0 has size 50 and the array at index 1 has size 49"
     ]
    }
   ],
   "source": [
    "import numpy as np\n",
    "\n",
    "# Sample data for TV hours and physical activity\n",
    "tv_hours = [3, 4, 5, 2, 6, 4, 7, 3, 2, 4,\n",
    "            5, 2, 6, 4, 7, 3, 2, 4, 5, 3,\n",
    "            4, 5, 2, 6, 4, 7, 3, 2, 4, 5,\n",
    "            3, 4, 5, 2, 6, 4, 7, 3, 2, 4,\n",
    "            5, 3, 4, 5, 2, 6, 4, 7, 3, 2]\n",
    "\n",
    "physical_activity = [120, 90, 60, 150, 30, 80, 20, 110, 130, 100,\n",
    "                     85, 140, 40, 75, 25, 105, 125, 95, 70, 115,\n",
    "                     90, 60, 150, 30, 80, 20, 110, 130, 100, 85,\n",
    "                     140, 40, 75, 25, 105, 125, 95, 70, 115, 90,\n",
    "                     60, 150, 30, 80, 20, 110, 130, 100, 85]\n",
    "\n",
    "# Calculate the Pearson correlation coefficient\n",
    "pearson_corr_coef = np.corrcoef(tv_hours, physical_activity)[0,1]\n",
    "\n",
    "print(\"Pearson Correlation Coefficient:\", pearson_corr_coef)\n"
   ]
  },
  {
   "cell_type": "code",
   "execution_count": null,
   "id": "e3c1b13e-4b84-4414-aa3f-804b0063615a",
   "metadata": {},
   "outputs": [],
   "source": []
  },
  {
   "cell_type": "code",
   "execution_count": null,
   "id": "df1bff6a-1840-482e-bb0b-f5c096ff9f92",
   "metadata": {},
   "outputs": [],
   "source": []
  },
  {
   "cell_type": "markdown",
   "id": "7325e7e4-ebfd-4d9a-bc96-ce815e89921e",
   "metadata": {},
   "source": [
    "Q6. A company is interested in examining the relationship between the number of sales calls made per day\n",
    "and the number of sales made per week. The company collected data on both variables from a sample of\n",
    "30 sales representatives. Calculate the Pearson correlation coefficient between these two variables."
   ]
  },
  {
   "cell_type": "code",
   "execution_count": 1,
   "id": "1a78aa77-254b-4453-8423-f322618bbede",
   "metadata": {},
   "outputs": [
    {
     "name": "stdout",
     "output_type": "stream",
     "text": [
      "Pearson Correlation Coefficient: 0.9853008993696436\n"
     ]
    }
   ],
   "source": [
    "import numpy as np\n",
    "\n",
    "# Sample data for sales calls per day and sales per week\n",
    "sales_calls_per_day = [20, 25, 18, 22, 17, 23, 21, 24, 19, 26,\n",
    "                       22, 25, 20, 23, 24, 21, 18, 19, 22, 25,\n",
    "                       20, 24, 21, 19, 23, 22, 18, 26, 20, 25]\n",
    "\n",
    "sales_per_week = [120, 150, 110, 130, 105, 140, 125, 135, 115, 160,\n",
    "                  135, 150, 120, 140, 145, 130, 110, 115, 130, 150,\n",
    "                  125, 145, 130, 115, 140, 135, 112, 155, 125, 150]\n",
    "\n",
    "# Calculate the Pearson correlation coefficient\n",
    "pearson_corr_coef = np.corrcoef(sales_calls_per_day, sales_per_week)[0, 1]\n",
    "\n",
    "print(\"Pearson Correlation Coefficient:\", pearson_corr_coef)\n"
   ]
  },
  {
   "cell_type": "code",
   "execution_count": null,
   "id": "a222f48d-031f-4fff-9165-d7d73cdb13f0",
   "metadata": {},
   "outputs": [],
   "source": []
  }
 ],
 "metadata": {
  "kernelspec": {
   "display_name": "Python 3 (ipykernel)",
   "language": "python",
   "name": "python3"
  },
  "language_info": {
   "codemirror_mode": {
    "name": "ipython",
    "version": 3
   },
   "file_extension": ".py",
   "mimetype": "text/x-python",
   "name": "python",
   "nbconvert_exporter": "python",
   "pygments_lexer": "ipython3",
   "version": "3.10.8"
  }
 },
 "nbformat": 4,
 "nbformat_minor": 5
}
